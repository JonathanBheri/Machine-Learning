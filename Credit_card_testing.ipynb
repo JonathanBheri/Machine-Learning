{
  "nbformat": 4,
  "nbformat_minor": 0,
  "metadata": {
    "colab": {
      "name": "Credit card testing.ipynb",
      "version": "0.3.2",
      "provenance": []
    },
    "kernelspec": {
      "name": "python3",
      "display_name": "Python 3"
    },
    "accelerator": "GPU"
  },
  "cells": [
    {
      "metadata": {
        "id": "bTs1Z5Wm4nPy",
        "colab_type": "text"
      },
      "cell_type": "markdown",
      "source": [
        "# Go to the Previous Note book at [Colab Notebook](https://colab.research.google.com/drive/1AlQWyrO3g07vdyXt7ueS70OBbfAqWljm?pli=1&authuser=0#scrollTo=o37GdbMuE93e) to get more details and see its history"
      ]
    },
    {
      "metadata": {
        "id": "MicVqdAtNDCP",
        "colab_type": "code",
        "colab": {}
      },
      "cell_type": "code",
      "source": [
        "#@title Importing libraries\n",
        "import pandas as pd\n",
        "import numpy as np\n",
        "from sklearn.model_selection import train_test_split\n",
        "import sklearn as ml\n",
        "from sklearn import tree\n",
        "from sklearn import preprocessing\n",
        "import matplotlib.pyplot as plt\n",
        "import seaborn as sns\n",
        "%matplotlib inline"
      ],
      "execution_count": 0,
      "outputs": []
    },
    {
      "metadata": {
        "id": "QTVpcJTUNOtQ",
        "colab_type": "code",
        "colab": {}
      },
      "cell_type": "code",
      "source": [
        "#@title CSV from url to pandas DataFrames { display-mode: \"both\" }\n",
        "\n",
        "url='https://raw.githubusercontent.com/nsethi31/Kaggle-Data-Credit-Card-Fraud-Detection/master/creditcard.csv'\n",
        "data= pd.read_csv(url)\n",
        "X_data=data.iloc[:,:-1]\n",
        "y_data=data.iloc[:,-1]"
      ],
      "execution_count": 0,
      "outputs": []
    },
    {
      "metadata": {
        "id": "dVNe4pbA1g7R",
        "colab_type": "text"
      },
      "cell_type": "markdown",
      "source": [
        " **Data is Imbalanced and will need to be either Undersampled or Oversampled**\n",
        " \n",
        "[Imbalanced Data](https://towardsdatascience.com/dealing-with-imbalanced-classes-in-machine-learning-d43d6fa19d2)\n",
        "\n",
        "Good article about outliers [Outliers](https://heartbeat.fritz.ai/how-to-make-your-machine-learning-models-robust-to-outliers-44d404067d07)\n",
        "\n",
        "also see [this](https://www.kaggle.com/janiobachmann/credit-fraud-dealing-with-imbalanced-datasets)\n",
        "\n",
        "\n",
        "\n"
      ]
    },
    {
      "metadata": {
        "id": "ecHJeVFtWU7K",
        "colab_type": "code",
        "colab": {}
      },
      "cell_type": "code",
      "source": [
        "#@title a) Normalization using Min Max Scaler\n",
        "min_max_scaler = preprocessing.MinMaxScaler()\n",
        "column=list(data.columns.values)\n",
        "data = pd.DataFrame(min_max_scaler.fit_transform(data),columns=column)\n",
        "data.Class.astype(int)"
      ],
      "execution_count": 0,
      "outputs": []
    },
    {
      "metadata": {
        "id": "zPItEJnrVQOV",
        "colab_type": "code",
        "colab": {}
      },
      "cell_type": "code",
      "source": [
        "#@title b) Normalizing data using Robust Scalar\n",
        "transformer = preprocessing.RobustScaler().fit(data)\n",
        "transformer\n",
        "column=list(data.columns.values)\n",
        "data = pd.DataFrame(transformer.transform(data),columns=column)\n",
        "data.Class.astype(int)"
      ],
      "execution_count": 0,
      "outputs": []
    },
    {
      "metadata": {
        "id": "xmRoULubPkYl",
        "colab_type": "code",
        "colab": {
          "base_uri": "https://localhost:8080/",
          "height": 34
        },
        "outputId": "0f3aee34-2496-4ac5-fcd1-37826c19f64c"
      },
      "cell_type": "code",
      "source": [
        "#@title Fraud data { vertical-output: true }\n",
        "fraud_idx = np.array(data[data.Class == 1].index)\n",
        "fraud = data.iloc[fraud_idx,:]\n",
        "#@markdown Number of Fraud are \n",
        "len(fraud)"
      ],
      "execution_count": 49,
      "outputs": [
        {
          "output_type": "execute_result",
          "data": {
            "text/plain": [
              "492"
            ]
          },
          "metadata": {
            "tags": []
          },
          "execution_count": 49
        }
      ]
    },
    {
      "metadata": {
        "id": "ujXYWjovQOcV",
        "colab_type": "code",
        "colab": {
          "base_uri": "https://localhost:8080/",
          "height": 34
        },
        "outputId": "a98846b1-7cb6-47ed-fb91-15e4463011c8"
      },
      "cell_type": "code",
      "source": [
        "#@title Good data { vertical-output: true }\n",
        "good_idx = np.array(data[data.Class != 1].index)\n",
        "good = data.iloc[good_idx,:]\n",
        "#@markdown Number of Good are \n",
        "len(good)"
      ],
      "execution_count": 50,
      "outputs": [
        {
          "output_type": "execute_result",
          "data": {
            "text/plain": [
              "284315"
            ]
          },
          "metadata": {
            "tags": []
          },
          "execution_count": 50
        }
      ]
    },
    {
      "metadata": {
        "id": "1RLe1_vZrPWw",
        "colab_type": "code",
        "colab": {
          "base_uri": "https://localhost:8080/",
          "height": 262
        },
        "outputId": "10b25280-1c86-431e-b5ee-8d046986eb8b"
      },
      "cell_type": "code",
      "source": [
        "#@title Distrubution of the features { vertical-output: true }\n",
        "f, axes = plt.subplots(ncols=2, figsize=(8,3))\n",
        "sns.distributions.distplot(a=data.V1,ax=axes[0])\n",
        "sns.distributions.distplot(a=data.V2,ax=axes[1])"
      ],
      "execution_count": 3,
      "outputs": [
        {
          "output_type": "execute_result",
          "data": {
            "text/plain": [
              "<matplotlib.axes._subplots.AxesSubplot at 0x7f16a5c9af28>"
            ]
          },
          "metadata": {
            "tags": []
          },
          "execution_count": 3
        },
        {
          "output_type": "display_data",
          "data": {
            "image/png": "[encoded data removed]",
            "text/plain": [
              "<matplotlib.figure.Figure at 0x7f16a60e42e8>"
            ]
          },
          "metadata": {
            "tags": []
          }
        }
      ]
    },
    {
      "metadata": {
        "id": "qCjWyAhXQzhi",
        "colab_type": "code",
        "colab": {
          "base_uri": "https://localhost:8080/",
          "height": 348
        },
        "outputId": "114ebf92-3264-41ff-ff97-a7874e56f614"
      },
      "cell_type": "code",
      "source": [
        "#@title Box plot to see the significance { vertical-output: true }\n",
        "f, axes = plt.subplots(ncols=2, figsize=(8,4))\n",
        "\n",
        "sns.boxplot(x=\"Class\", y=\"Time\", data=data, ax=axes[0],palette=\"Set1\")\n",
        "axes[0].set_title('amount vs Class')\n",
        "\n",
        "sns.boxplot(x=\"Class\", y=\"V17\", data=data, ax=axes[1],palette=\"Set1\")\n",
        "axes[1].set_title('V17 vs Class')\n",
        "\n",
        "plt.show()"
      ],
      "execution_count": 4,
      "outputs": [
        {
          "output_type": "stream",
          "text": [
            "/usr/local/lib/python3.6/dist-packages/seaborn/categorical.py:454: FutureWarning: remove_na is deprecated and is a private function. Do not use.\n",
            "  box_data = remove_na(group_data)\n"
          ],
          "name": "stderr"
        },
        {
          "output_type": "display_data",
          "data": {
            "image/png": "[encoded data removed]",
            "text/plain": [
              "<matplotlib.figure.Figure at 0x7f16a5ba7be0>"
            ]
          },
          "metadata": {
            "tags": []
          }
        }
      ]
    },
    {
      "metadata": {
        "id": "28_MLMuiwPWW",
        "colab_type": "code",
        "colab": {
          "base_uri": "https://localhost:8080/",
          "height": 544
        },
        "outputId": "5b5119ac-9432-4a89-9f0f-e1dbc912852a"
      },
      "cell_type": "code",
      "source": [
        "#@title Correlation of Features and Classes { vertical-output: true }\n",
        "f, axes = plt.subplots(1,1, figsize=(10,8))\n",
        "cor = data.corr()\n",
        "sns.heatmap(cor, cmap='coolwarm_r', annot_kws={'size':.1})\n",
        "#@markdown Can see that Amount, Time and Features from V19 to V28 don't have any Correlation."
      ],
      "execution_count": 5,
      "outputs": [
        {
          "output_type": "execute_result",
          "data": {
            "text/plain": [
              "<matplotlib.axes._subplots.AxesSubplot at 0x7f16a31caf60>"
            ]
          },
          "metadata": {
            "tags": []
          },
          "execution_count": 5
        },
        {
          "output_type": "display_data",
          "data": {
            "image/png": "[encoded data removed]",
            "text/plain": [
              "<matplotlib.figure.Figure at 0x7f16a5bfc8d0>"
            ]
          },
          "metadata": {
            "tags": []
          }
        }
      ]
    },
    {
      "metadata": {
        "id": "_tbkTah2yjQh",
        "colab_type": "code",
        "colab": {}
      },
      "cell_type": "code",
      "source": [
        "#@title Removing redundant features\n",
        "data=data.drop(['Time','Amount','V19','V20','V21','V22','V23','V24','V25','V26','V27','V28'], axis=1) \n",
        "good=good.drop(['Time','Amount','V19','V20','V21','V22','V23','V24','V25','V26','V27','V28'], axis=1) \n",
        "fraud=fraud.drop(['Time','Amount','V19','V20','V21','V22','V23','V24','V25','V26','V27','V28'], axis=1) \n",
        "\n",
        "#@markdown removing all the unneccasary Features\n"
      ],
      "execution_count": 0,
      "outputs": []
    },
    {
      "metadata": {
        "id": "HYwhYGKSBwvf",
        "colab_type": "code",
        "colab": {}
      },
      "cell_type": "code",
      "source": [
        "#@title Undersampling to get a Balanced dataset (Function)\n",
        "#@markdown Use the Function random_balanced_dataset() to access it\n",
        "def random_balanced_data():\n",
        "  fraud_df = data.loc[data['Class'] == 1]\n",
        "  good_df = data.loc[data['Class'] == 0]\n",
        "  sample_good_index=np.array(np.random.choice(good_df.index, len(fraud_df), replace = False))\n",
        "  under_sample_idx = np.concatenate([fraud_df.index,sample_good_index])\n",
        "  under_sample_data = data.iloc[under_sample_idx,:]\n",
        "  under_sample_data= under_sample_data.sample(frac=1).reset_index(drop=True) # shuffle\n",
        "  return under_sample_data"
      ],
      "execution_count": 0,
      "outputs": []
    },
    {
      "metadata": {
        "id": "nYfbjdJoIAGw",
        "colab_type": "code",
        "colab": {},
        "cellView": "both"
      },
      "cell_type": "code",
      "source": [
        "#@title Making Training and Test data (Function)\n",
        "def shuffle_set():\n",
        "  df=random_balanced_data()\n",
        "  X=df.iloc[:,:-1]\n",
        "  y=df.iloc[:,-1]\n",
        "  X_train, X_test, y_train, y_test = train_test_split(X,y, test_size=0.2, random_state=22)\n",
        "  return X_train, X_test, y_train, y_test"
      ],
      "execution_count": 0,
      "outputs": []
    },
    {
      "metadata": {
        "id": "a-MUcMOfBllN",
        "colab_type": "text"
      },
      "cell_type": "markdown",
      "source": [
        "# Autoencoder for the system\n",
        " \n",
        " \n",
        " Trying to follow [source](https://medium.com/@curiousily/credit-card-fraud-detection-using-autoencoders-in-keras-tensorflow-for-hackers-part-vii-20e0c85301bd)"
      ]
    },
    {
      "metadata": {
        "id": "-Fw3ZLJ9Br__",
        "colab_type": "code",
        "colab": {
          "base_uri": "https://localhost:8080/",
          "height": 34
        },
        "outputId": "c3abee0e-bda9-4d78-8f3e-b41817661f9c"
      },
      "cell_type": "code",
      "source": [
        "#@title Importing Keras { vertical-output: true }\n",
        "\n",
        "from keras.models import Sequential\n",
        "from keras.layers import Dense\n",
        "from keras.layers.embeddings import Embedding\n",
        "from keras.preprocessing import sequence\n",
        "from keras.callbacks import ModelCheckpoint\n",
        "from keras import regularizers\n",
        "import sklearn as ml"
      ],
      "execution_count": 7,
      "outputs": [
        {
          "output_type": "stream",
          "text": [
            "Using TensorFlow backend.\n"
          ],
          "name": "stderr"
        }
      ]
    },
    {
      "metadata": {
        "id": "Yyn9YbmJadWe",
        "colab_type": "code",
        "colab": {}
      },
      "cell_type": "code",
      "source": [
        "X_train, X_test, y_train, y_test=shuffle_set()\n"
      ],
      "execution_count": 0,
      "outputs": []
    },
    {
      "metadata": {
        "id": "O0qlJGNydMpB",
        "colab_type": "code",
        "colab": {
          "base_uri": "https://localhost:8080/",
          "height": 224
        },
        "outputId": "8eed2a3c-bfb2-46bd-da2a-828090e5a50d"
      },
      "cell_type": "code",
      "source": [
        "X_train.head()"
      ],
      "execution_count": 15,
      "outputs": [
        {
          "output_type": "execute_result",
          "data": {
            "text/html": [
              "<div>\n",
              "<style scoped>\n",
              "    .dataframe tbody tr th:only-of-type {\n",
              "        vertical-align: middle;\n",
              "    }\n",
              "\n",
              "    .dataframe tbody tr th {\n",
              "        vertical-align: top;\n",
              "    }\n",
              "\n",
              "    .dataframe thead th {\n",
              "        text-align: right;\n",
              "    }\n",
              "</style>\n",
              "<table border=\"1\" class=\"dataframe\">\n",
              "  <thead>\n",
              "    <tr style=\"text-align: right;\">\n",
              "      <th></th>\n",
              "      <th>V1</th>\n",
              "      <th>V2</th>\n",
              "      <th>V3</th>\n",
              "      <th>V4</th>\n",
              "      <th>V5</th>\n",
              "      <th>V6</th>\n",
              "      <th>V7</th>\n",
              "      <th>V8</th>\n",
              "      <th>V9</th>\n",
              "      <th>V10</th>\n",
              "      <th>V11</th>\n",
              "      <th>V12</th>\n",
              "      <th>V13</th>\n",
              "      <th>V14</th>\n",
              "      <th>V15</th>\n",
              "      <th>V16</th>\n",
              "      <th>V17</th>\n",
              "      <th>V18</th>\n",
              "    </tr>\n",
              "  </thead>\n",
              "  <tbody>\n",
              "    <tr>\n",
              "      <th>617</th>\n",
              "      <td>-0.956390</td>\n",
              "      <td>2.361594</td>\n",
              "      <td>-3.171195</td>\n",
              "      <td>1.970759</td>\n",
              "      <td>0.474761</td>\n",
              "      <td>-1.902598</td>\n",
              "      <td>-0.055178</td>\n",
              "      <td>0.277831</td>\n",
              "      <td>-1.745854</td>\n",
              "      <td>-2.516628</td>\n",
              "      <td>0.874052</td>\n",
              "      <td>-2.513104</td>\n",
              "      <td>0.021575</td>\n",
              "      <td>-3.565119</td>\n",
              "      <td>0.461153</td>\n",
              "      <td>-2.015713</td>\n",
              "      <td>-1.731413</td>\n",
              "      <td>-0.465815</td>\n",
              "    </tr>\n",
              "    <tr>\n",
              "      <th>49</th>\n",
              "      <td>-1.756712</td>\n",
              "      <td>3.266574</td>\n",
              "      <td>-4.153388</td>\n",
              "      <td>3.924526</td>\n",
              "      <td>-1.753772</td>\n",
              "      <td>-1.005787</td>\n",
              "      <td>-4.313217</td>\n",
              "      <td>1.560712</td>\n",
              "      <td>-3.295674</td>\n",
              "      <td>-6.213355</td>\n",
              "      <td>4.522992</td>\n",
              "      <td>-6.652844</td>\n",
              "      <td>-0.124685</td>\n",
              "      <td>-8.604486</td>\n",
              "      <td>0.110359</td>\n",
              "      <td>-5.945481</td>\n",
              "      <td>-9.338938</td>\n",
              "      <td>-2.390193</td>\n",
              "    </tr>\n",
              "    <tr>\n",
              "      <th>646</th>\n",
              "      <td>-5.839192</td>\n",
              "      <td>7.151532</td>\n",
              "      <td>-12.816760</td>\n",
              "      <td>7.031115</td>\n",
              "      <td>-9.651272</td>\n",
              "      <td>-2.938427</td>\n",
              "      <td>-11.543207</td>\n",
              "      <td>4.843627</td>\n",
              "      <td>-3.494276</td>\n",
              "      <td>-13.320789</td>\n",
              "      <td>8.460244</td>\n",
              "      <td>-17.003289</td>\n",
              "      <td>0.101557</td>\n",
              "      <td>-14.094452</td>\n",
              "      <td>0.747031</td>\n",
              "      <td>-12.661696</td>\n",
              "      <td>-18.912494</td>\n",
              "      <td>-6.626975</td>\n",
              "    </tr>\n",
              "    <tr>\n",
              "      <th>40</th>\n",
              "      <td>-27.143678</td>\n",
              "      <td>15.365804</td>\n",
              "      <td>-28.407424</td>\n",
              "      <td>6.370895</td>\n",
              "      <td>-20.087878</td>\n",
              "      <td>-4.666313</td>\n",
              "      <td>-18.709479</td>\n",
              "      <td>17.903574</td>\n",
              "      <td>-3.722279</td>\n",
              "      <td>-8.120962</td>\n",
              "      <td>4.419943</td>\n",
              "      <td>-6.210941</td>\n",
              "      <td>1.063837</td>\n",
              "      <td>-5.843528</td>\n",
              "      <td>-0.108836</td>\n",
              "      <td>-5.606597</td>\n",
              "      <td>-11.756256</td>\n",
              "      <td>-4.714947</td>\n",
              "    </tr>\n",
              "    <tr>\n",
              "      <th>22</th>\n",
              "      <td>-0.521156</td>\n",
              "      <td>0.205919</td>\n",
              "      <td>2.201131</td>\n",
              "      <td>0.444069</td>\n",
              "      <td>-0.252112</td>\n",
              "      <td>0.343828</td>\n",
              "      <td>-0.197884</td>\n",
              "      <td>0.507216</td>\n",
              "      <td>0.322365</td>\n",
              "      <td>-0.538773</td>\n",
              "      <td>0.898237</td>\n",
              "      <td>0.571338</td>\n",
              "      <td>-1.157111</td>\n",
              "      <td>-0.093401</td>\n",
              "      <td>-0.866280</td>\n",
              "      <td>0.194912</td>\n",
              "      <td>-0.374129</td>\n",
              "      <td>0.111852</td>\n",
              "    </tr>\n",
              "  </tbody>\n",
              "</table>\n",
              "</div>"
            ],
            "text/plain": [
              "            V1         V2         V3        V4         V5        V6  \\\n",
              "617  -0.956390   2.361594  -3.171195  1.970759   0.474761 -1.902598   \n",
              "49   -1.756712   3.266574  -4.153388  3.924526  -1.753772 -1.005787   \n",
              "646  -5.839192   7.151532 -12.816760  7.031115  -9.651272 -2.938427   \n",
              "40  -27.143678  15.365804 -28.407424  6.370895 -20.087878 -4.666313   \n",
              "22   -0.521156   0.205919   2.201131  0.444069  -0.252112  0.343828   \n",
              "\n",
              "            V7         V8        V9        V10       V11        V12       V13  \\\n",
              "617  -0.055178   0.277831 -1.745854  -2.516628  0.874052  -2.513104  0.021575   \n",
              "49   -4.313217   1.560712 -3.295674  -6.213355  4.522992  -6.652844 -0.124685   \n",
              "646 -11.543207   4.843627 -3.494276 -13.320789  8.460244 -17.003289  0.101557   \n",
              "40  -18.709479  17.903574 -3.722279  -8.120962  4.419943  -6.210941  1.063837   \n",
              "22   -0.197884   0.507216  0.322365  -0.538773  0.898237   0.571338 -1.157111   \n",
              "\n",
              "           V14       V15        V16        V17       V18  \n",
              "617  -3.565119  0.461153  -2.015713  -1.731413 -0.465815  \n",
              "49   -8.604486  0.110359  -5.945481  -9.338938 -2.390193  \n",
              "646 -14.094452  0.747031 -12.661696 -18.912494 -6.626975  \n",
              "40   -5.843528 -0.108836  -5.606597 -11.756256 -4.714947  \n",
              "22   -0.093401 -0.866280   0.194912  -0.374129  0.111852  "
            ]
          },
          "metadata": {
            "tags": []
          },
          "execution_count": 15
        }
      ]
    },
    {
      "metadata": {
        "id": "kdt7GzeeIvsW",
        "colab_type": "code",
        "colab": {}
      },
      "cell_type": "code",
      "source": [
        "#@title Autoencoder model \n",
        "#@markdown Layer structure:       Input | 60 | 40 | 20 | 20 | 40 | 60 | Input \n",
        "#@markdown All activations are Relu activations\n",
        "nnmodel = Sequential()\n",
        "nnmodel.add(Dense(18,activation='sigmoid',input_shape=(np.shape(X_train)[1],)  ))\n",
        "nnmodel.add(Dense(9,activation='sigmoid',activity_regularizer=regularizers.l1(10e-5),kernel_initializer='glorot_uniform',bias_initializer='zeros'))\n",
        "nnmodel.add(Dense(4,activation='sigmoid',activity_regularizer=regularizers.l1(10e-5),kernel_initializer='glorot_uniform',bias_initializer='zeros'))\n",
        "nnmodel.add(Dense(4,activation='relu',activity_regularizer=regularizers.l1(10e-5),kernel_initializer='glorot_uniform',bias_initializer='zeros'))\n",
        "nnmodel.add(Dense(9,activation='relu',activity_regularizer=regularizers.l1(10e-5),kernel_initializer='glorot_uniform',bias_initializer='zeros'))\n",
        "nnmodel.add(Dense(18,activation='relu',activity_regularizer=regularizers.l1(10e-5),kernel_initializer='glorot_uniform',bias_initializer='zeros'))\n",
        "#nnmodel.add(Dense(np.shape(X)[1],activation='relu'))"
      ],
      "execution_count": 0,
      "outputs": []
    },
    {
      "metadata": {
        "id": "COHGVCouJDkv",
        "colab_type": "code",
        "colab": {}
      },
      "cell_type": "code",
      "source": [
        "#@title Fitting the model\n",
        "nnmodel.compile(loss='mean_squared_logarithmic_error', optimizer='adam', metrics=['accuracy'])\n",
        "nnmodel.fit(X_train, X_train, epochs=100, batch_size=64,shuffle=True,\n",
        "                validation_data=(X_test, X_test))\n",
        "checkpointer = ModelCheckpoint(filepath=\"model.h5\",\n",
        "                               verbose=0,\n",
        "                               save_best_only=True)"
      ],
      "execution_count": 0,
      "outputs": []
    },
    {
      "metadata": {
        "id": "J9kPMPBpJIcA",
        "colab_type": "code",
        "colab": {
          "base_uri": "https://localhost:8080/",
          "height": 297
        },
        "outputId": "6426d8ce-df22-447c-9090-f0b2c7c962ef"
      },
      "cell_type": "code",
      "source": [
        "#@title Prediciton and results { vertical-output: true }\n",
        "X_data=data.iloc[:,:-1]\n",
        "y_data=data.iloc[:,-1]\n",
        "nn_X_pred= nnmodel.predict(X_data)\n",
        "mse = np.mean(np.power(X_data - nn_X_pred, 2), axis=1)\n",
        "error_df = pd.DataFrame({'reconstruction_error': mse,\n",
        "                        'true_class': y_test})\n",
        "error_df.describe()"
      ],
      "execution_count": 13,
      "outputs": [
        {
          "output_type": "execute_result",
          "data": {
            "text/html": [
              "<div>\n",
              "<style scoped>\n",
              "    .dataframe tbody tr th:only-of-type {\n",
              "        vertical-align: middle;\n",
              "    }\n",
              "\n",
              "    .dataframe tbody tr th {\n",
              "        vertical-align: top;\n",
              "    }\n",
              "\n",
              "    .dataframe thead th {\n",
              "        text-align: right;\n",
              "    }\n",
              "</style>\n",
              "<table border=\"1\" class=\"dataframe\">\n",
              "  <thead>\n",
              "    <tr style=\"text-align: right;\">\n",
              "      <th></th>\n",
              "      <th>reconstruction_error</th>\n",
              "      <th>true_class</th>\n",
              "    </tr>\n",
              "  </thead>\n",
              "  <tbody>\n",
              "    <tr>\n",
              "      <th>count</th>\n",
              "      <td>284807.000000</td>\n",
              "      <td>197.000000</td>\n",
              "    </tr>\n",
              "    <tr>\n",
              "      <th>mean</th>\n",
              "      <td>1.462363</td>\n",
              "      <td>0.527919</td>\n",
              "    </tr>\n",
              "    <tr>\n",
              "      <th>std</th>\n",
              "      <td>6.674738</td>\n",
              "      <td>0.500492</td>\n",
              "    </tr>\n",
              "    <tr>\n",
              "      <th>min</th>\n",
              "      <td>0.114918</td>\n",
              "      <td>0.000000</td>\n",
              "    </tr>\n",
              "    <tr>\n",
              "      <th>25%</th>\n",
              "      <td>0.551610</td>\n",
              "      <td>0.000000</td>\n",
              "    </tr>\n",
              "    <tr>\n",
              "      <th>50%</th>\n",
              "      <td>0.875441</td>\n",
              "      <td>1.000000</td>\n",
              "    </tr>\n",
              "    <tr>\n",
              "      <th>75%</th>\n",
              "      <td>1.383983</td>\n",
              "      <td>1.000000</td>\n",
              "    </tr>\n",
              "    <tr>\n",
              "      <th>max</th>\n",
              "      <td>2180.341095</td>\n",
              "      <td>1.000000</td>\n",
              "    </tr>\n",
              "  </tbody>\n",
              "</table>\n",
              "</div>"
            ],
            "text/plain": [
              "       reconstruction_error  true_class\n",
              "count         284807.000000  197.000000\n",
              "mean               1.462363    0.527919\n",
              "std                6.674738    0.500492\n",
              "min                0.114918    0.000000\n",
              "25%                0.551610    0.000000\n",
              "50%                0.875441    1.000000\n",
              "75%                1.383983    1.000000\n",
              "max             2180.341095    1.000000"
            ]
          },
          "metadata": {
            "tags": []
          },
          "execution_count": 13
        }
      ]
    },
    {
      "metadata": {
        "id": "Zuu2kY2Tc7HS",
        "colab_type": "code",
        "colab": {
          "base_uri": "https://localhost:8080/",
          "height": 204
        },
        "outputId": "3d04e77f-4b44-4403-b36d-7ea3f7045d1e"
      },
      "cell_type": "code",
      "source": [
        "error_df.head()"
      ],
      "execution_count": 14,
      "outputs": [
        {
          "output_type": "execute_result",
          "data": {
            "text/html": [
              "<div>\n",
              "<style scoped>\n",
              "    .dataframe tbody tr th:only-of-type {\n",
              "        vertical-align: middle;\n",
              "    }\n",
              "\n",
              "    .dataframe tbody tr th {\n",
              "        vertical-align: top;\n",
              "    }\n",
              "\n",
              "    .dataframe thead th {\n",
              "        text-align: right;\n",
              "    }\n",
              "</style>\n",
              "<table border=\"1\" class=\"dataframe\">\n",
              "  <thead>\n",
              "    <tr style=\"text-align: right;\">\n",
              "      <th></th>\n",
              "      <th>reconstruction_error</th>\n",
              "      <th>true_class</th>\n",
              "    </tr>\n",
              "  </thead>\n",
              "  <tbody>\n",
              "    <tr>\n",
              "      <th>0</th>\n",
              "      <td>0.781923</td>\n",
              "      <td>NaN</td>\n",
              "    </tr>\n",
              "    <tr>\n",
              "      <th>1</th>\n",
              "      <td>0.328671</td>\n",
              "      <td>1.0</td>\n",
              "    </tr>\n",
              "    <tr>\n",
              "      <th>2</th>\n",
              "      <td>1.628733</td>\n",
              "      <td>NaN</td>\n",
              "    </tr>\n",
              "    <tr>\n",
              "      <th>3</th>\n",
              "      <td>0.836808</td>\n",
              "      <td>NaN</td>\n",
              "    </tr>\n",
              "    <tr>\n",
              "      <th>4</th>\n",
              "      <td>0.503312</td>\n",
              "      <td>NaN</td>\n",
              "    </tr>\n",
              "  </tbody>\n",
              "</table>\n",
              "</div>"
            ],
            "text/plain": [
              "   reconstruction_error  true_class\n",
              "0              0.781923         NaN\n",
              "1              0.328671         1.0\n",
              "2              1.628733         NaN\n",
              "3              0.836808         NaN\n",
              "4              0.503312         NaN"
            ]
          },
          "metadata": {
            "tags": []
          },
          "execution_count": 14
        }
      ]
    },
    {
      "metadata": {
        "id": "arLgMbLzNFv9",
        "colab_type": "code",
        "colab": {
          "base_uri": "https://localhost:8080/",
          "height": 265
        },
        "outputId": "8e46f79e-2113-4544-c621-88591b823e54"
      },
      "cell_type": "code",
      "source": [
        "#@title Reconstruction of Good data { vertical-output: true }\n",
        "fig = plt.figure()\n",
        "ax = fig.add_subplot(111)\n",
        "normal_error_df = error_df[(error_df['true_class']== 0) & (error_df['reconstruction_error'] < 10)]\n",
        "_ = ax.hist(normal_error_df.reconstruction_error.values, bins=10)"
      ],
      "execution_count": 16,
      "outputs": [
        {
          "output_type": "display_data",
          "data": {
            "image/png": "[encoded data removed]",
            "text/plain": [
              "<matplotlib.figure.Figure at 0x7f9b8795a978>"
            ]
          },
          "metadata": {
            "tags": []
          }
        }
      ]
    },
    {
      "metadata": {
        "id": "K0ptKO4jNJKV",
        "colab_type": "code",
        "colab": {
          "base_uri": "https://localhost:8080/",
          "height": 265
        },
        "outputId": "6dc266ed-758c-4439-8595-8e29cf304170"
      },
      "cell_type": "code",
      "source": [
        "#@title Reconstruction of Fraud data { vertical-output: true }\n",
        "fig = plt.figure()\n",
        "ax = fig.add_subplot(111)\n",
        "fraud_error_df = error_df[error_df['true_class'] == 1]\n",
        "_ = ax.hist(fraud_error_df.reconstruction_error.values, bins=10)"
      ],
      "execution_count": 17,
      "outputs": [
        {
          "output_type": "display_data",
          "data": {
            "image/png": "[encoded data removed]",
            "text/plain": [
              "<matplotlib.figure.Figure at 0x7f9b8795a710>"
            ]
          },
          "metadata": {
            "tags": []
          }
        }
      ]
    },
    {
      "metadata": {
        "id": "jReroS7ORT0G",
        "colab_type": "text"
      },
      "cell_type": "markdown",
      "source": [
        "# VAE for the data\n",
        "look in the VAE section of this blog to know more [source](https://blog.keras.io/building-autoencoders-in-keras.html)"
      ]
    },
    {
      "metadata": {
        "id": "RylaVozWO05H",
        "colab_type": "code",
        "colab": {}
      },
      "cell_type": "code",
      "source": [
        "#@title Import libraries\n",
        "from keras.layers import Lambda, Input, Dense\n",
        "from keras import backend as K\n",
        "from keras.losses import mse, binary_crossentropy\n",
        "from keras.models import Model"
      ],
      "execution_count": 0,
      "outputs": []
    },
    {
      "metadata": {
        "id": "zQgn075udyVd",
        "colab_type": "code",
        "colab": {}
      },
      "cell_type": "code",
      "source": [
        "#@title Intializing the network and making a Z mean and Z log sigma Variables\n",
        "x = Input(shape=(18,))\n",
        "h = Dense(36, activation='relu',kernel_initializer='glorot_uniform',bias_initializer='zeros')(x)\n",
        "z_mean = Dense(2)(h)\n",
        "z_log_sigma = Dense(2)(h)"
      ],
      "execution_count": 0,
      "outputs": []
    },
    {
      "metadata": {
        "id": "6bzNgIbnPtEn",
        "colab_type": "code",
        "colab": {}
      },
      "cell_type": "code",
      "source": [
        "#@title Making a sampling Function and a Lambda layer\n",
        "def sampling(args):\n",
        "    z_mean, z_log_sigma = args\n",
        "    epsilon = K.random_normal(shape=(2,))\n",
        "    return z_mean + K.exp(z_log_sigma) * epsilon\n",
        "\n",
        "# note that \"output_shape\" isn't necessary with the TensorFlow backend\n",
        "# so you could write `Lambda(sampling)([z_mean, z_log_sigma])`\n",
        "z = Lambda(sampling, output_shape=(2,))([z_mean, z_log_sigma])"
      ],
      "execution_count": 0,
      "outputs": []
    },
    {
      "metadata": {
        "id": "1BOu5x5XU-yi",
        "colab_type": "code",
        "colab": {}
      },
      "cell_type": "code",
      "source": [
        "#@title Making a Decoder\n",
        "decoder_h = Dense(36, activation='relu',kernel_initializer='glorot_uniform',bias_initializer='zeros')\n",
        "decoder_mean = Dense(18, activation='sigmoid',kernel_initializer='glorot_uniform',bias_initializer='zeros')\n",
        "h_decoded = decoder_h(z)\n",
        "x_decoded_mean = decoder_mean(h_decoded)\n"
      ],
      "execution_count": 0,
      "outputs": []
    },
    {
      "metadata": {
        "id": "LRvlUEBdVHa_",
        "colab_type": "code",
        "colab": {}
      },
      "cell_type": "code",
      "source": [
        "#@title Making a VAE model and  a Generator model\n",
        "vae = Model(x, x_decoded_mean)\n",
        "\n",
        "# encoder, from inputs to latent space\n",
        "encoder = Model(x, z_mean)\n",
        "\n",
        "# generator, from latent space to reconstructed inputs\n",
        "decoder_input = Input(shape=(2,))\n",
        "h_decoded = decoder_h(decoder_input)\n",
        "x_decoded_mean = decoder_mean(h_decoded)\n",
        "generator = Model(decoder_input, x_decoded_mean)"
      ],
      "execution_count": 0,
      "outputs": []
    },
    {
      "metadata": {
        "id": "G-bve5raVKUR",
        "colab_type": "code",
        "colab": {}
      },
      "cell_type": "code",
      "source": [
        "#@title Loss function \n",
        "from keras.losses import mse, binary_crossentropy\n",
        "def vae_loss(x, x_decoded_mean):\n",
        "    xent_loss = mse(x, x_decoded_mean)\n",
        "    kl_loss = - 0.5 * K.mean(1 + z_log_sigma - K.square(z_mean) - K.exp(z_log_sigma), axis=-1)\n",
        "    return xent_loss + kl_loss\n",
        "\n",
        "vae.compile(optimizer='adamax', loss=vae_loss)"
      ],
      "execution_count": 0,
      "outputs": []
    },
    {
      "metadata": {
        "id": "2WKJt2dPbtjh",
        "colab_type": "code",
        "colab": {}
      },
      "cell_type": "code",
      "source": [
        "#@title Shuffle the dataset with new good values\n",
        "X_train, X_test, y_train, y_test=shuffle_set()"
      ],
      "execution_count": 0,
      "outputs": []
    },
    {
      "metadata": {
        "id": "Ve8cjHKRWcwU",
        "colab_type": "code",
        "colab": {}
      },
      "cell_type": "code",
      "source": [
        "#@title Fitting the model to the data\n",
        "vae.fit(X_train, X_train,\n",
        "        shuffle=True,\n",
        "        epochs=100,\n",
        "        batch_size=64,\n",
        "        validation_data=(X_test, X_test))"
      ],
      "execution_count": 0,
      "outputs": []
    },
    {
      "metadata": {
        "id": "L08LV1FVdVZn",
        "colab_type": "code",
        "colab": {}
      },
      "cell_type": "code",
      "source": [
        "#@title Training the model for differeent data sets\n",
        "x=0\n",
        "while(x<10):\n",
        "  X_train, X_test, y_train, y_test=shuffle_set()\n",
        "  vae.fit(X_train, X_train,\n",
        "        shuffle=True,\n",
        "        epochs=30,\n",
        "        batch_size=64,\n",
        "        validation_data=(X_test, X_test))\n",
        "  x=x+1"
      ],
      "execution_count": 0,
      "outputs": []
    },
    {
      "metadata": {
        "id": "w5Kj6lr0X1jL",
        "colab_type": "code",
        "colab": {
          "base_uri": "https://localhost:8080/",
          "height": 507
        },
        "outputId": "e7ff93f8-af56-46a1-8fd0-e06849f7da54"
      },
      "cell_type": "code",
      "source": [
        "#@title plotting the distrubution of data { vertical-output: true }\n",
        "X_test_encoded = encoder.predict(X_data, batch_size=64)\n",
        "plt.figure(figsize=(10, 8))\n",
        "plt.scatter(X_test_encoded[:, 0], X_test_encoded[:, 1], c=y_data)\n",
        "plt.colorbar()\n",
        "plt.show()"
      ],
      "execution_count": 32,
      "outputs": [
        {
          "output_type": "display_data",
          "data": {
            "image/png": "[encoded data removed]",
            "text/plain": [
              "<matplotlib.figure.Figure at 0x7f9b84f549e8>"
            ]
          },
          "metadata": {
            "tags": []
          }
        }
      ]
    }
  ]
}